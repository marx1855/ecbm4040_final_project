{
 "cells": [
  {
   "cell_type": "code",
   "execution_count": 1,
   "metadata": {},
   "outputs": [
    {
     "name": "stdout",
     "output_type": "stream",
     "text": [
      "Generating metadata for training.\n",
      "Done\n",
      "Load training dataset labels\n",
      "Done\n",
      "\n",
      "Generating metadata for testing.\n",
      "Done\n",
      "Load test dataset labels\n",
      "Done\n",
      "\n",
      "loading traning data:\n"
     ]
    },
    {
     "name": "stderr",
     "output_type": "stream",
     "text": [
      "c:\\users\\marx1\\appdata\\local\\programs\\python\\python35\\lib\\site-packages\\skimage\\transform\\_warps.py:84: UserWarning: The default mode, 'constant', will be changed to 'reflect' in skimage 0.15.\n",
      "  warn(\"The default mode, 'constant', will be changed to 'reflect' in \"\n"
     ]
    },
    {
     "name": "stdout",
     "output_type": "stream",
     "text": [
      "1000/33402\n",
      "2000/33402\n",
      "3000/33402\n",
      "4000/33402\n",
      "5000/33402\n",
      "6000/33402\n",
      "7000/33402\n",
      "8000/33402\n",
      "9000/33402\n",
      "10000/33402\n",
      "11000/33402\n",
      "12000/33402\n",
      "13000/33402\n",
      "14000/33402\n",
      "15000/33402\n",
      "16000/33402\n",
      "17000/33402\n",
      "18000/33402\n",
      "19000/33402\n",
      "20000/33402\n",
      "21000/33402\n",
      "22000/33402\n",
      "23000/33402\n",
      "24000/33402\n",
      "25000/33402\n",
      "26000/33402\n",
      "27000/33402\n",
      "28000/33402\n",
      "29000/33402\n",
      "30000/33402\n",
      "31000/33402\n",
      "32000/33402\n",
      "33000/33402\n",
      "33402/33402\n",
      "loading traning data:\n",
      "1000/13068\n",
      "2000/13068\n",
      "3000/13068\n",
      "4000/13068\n",
      "5000/13068\n",
      "6000/13068\n",
      "7000/13068\n",
      "8000/13068\n",
      "9000/13068\n",
      "10000/13068\n",
      "11000/13068\n",
      "12000/13068\n",
      "13000/13068\n",
      "13068/13068\n"
     ]
    }
   ],
   "source": [
    "import dataset_utils as du\n",
    "ds = du.dataset()\n",
    "train_data, test_data, train_labels, test_labels = ds.load_image([64,64])"
   ]
  },
  {
   "cell_type": "code",
   "execution_count": 4,
   "metadata": {},
   "outputs": [
    {
     "name": "stdout",
     "output_type": "stream",
     "text": [
      "(256, 64, 64, 3)\n",
      "(256, 7)\n",
      "768\n",
      "(128, 64, 64, 3)\n",
      "(128, 7)\n",
      "256\n"
     ]
    }
   ],
   "source": [
    "batch, label = ds.build_batch(train_data, train_labels, 256, True, shuffle=True)\n",
    "print(batch.shape)\n",
    "print(label.shape)\n",
    "print(ds.idx_train)\n",
    "batch, label = ds.build_batch(test_data, test_labels, 128, False, shuffle=True)\n",
    "print(batch.shape)\n",
    "print(label.shape)\n",
    "print(ds.idx_test)"
   ]
  },
  {
   "cell_type": "code",
   "execution_count": null,
   "metadata": {
    "collapsed": true
   },
   "outputs": [],
   "source": []
  }
 ],
 "metadata": {
  "kernelspec": {
   "display_name": "Python 3",
   "language": "python",
   "name": "python3"
  },
  "language_info": {
   "codemirror_mode": {
    "name": "ipython",
    "version": 3
   },
   "file_extension": ".py",
   "mimetype": "text/x-python",
   "name": "python",
   "nbconvert_exporter": "python",
   "pygments_lexer": "ipython3",
   "version": "3.5.3"
  }
 },
 "nbformat": 4,
 "nbformat_minor": 2
}
